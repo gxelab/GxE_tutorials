{
 "cells": [
  {
   "cell_type": "markdown",
   "id": "92eb933f-b4b3-4998-a110-affa4194dc5c",
   "metadata": {},
   "source": [
    "## References\n",
    "- ete3: http://etetoolkit.org/docs/latest/tutorial/tutorial_trees.html\n",
    "- changes in ete4: https://github.com/etetoolkit/ete/releases/tag/4.1.0-beta"
   ]
  },
  {
   "cell_type": "markdown",
   "id": "b306a743-309b-4033-9b7e-7df865bdc6f5",
   "metadata": {},
   "source": [
    "## Working with tree\n",
    "In ete4, a tree is a set of nodes hirerachically connected. ete does not discriminate trees and nodes. A tree is represented by its root node. When a tree is created, the root node is returned (no matter the tree is rooted or not).\n",
    "\n",
    "### Read tree"
   ]
  },
  {
   "cell_type": "code",
   "execution_count": 1,
   "id": "4cc7d7ef-93bf-4cdd-bd58-df7b2dc6a290",
   "metadata": {},
   "outputs": [],
   "source": [
    "from ete4 import Tree"
   ]
  },
  {
   "cell_type": "code",
   "execution_count": 2,
   "id": "4174dbb4-79bf-447a-8506-e8f85358532a",
   "metadata": {},
   "outputs": [
    {
     "name": "stdout",
     "output_type": "stream",
     "text": [
      "─┬╴A\n",
      " ╰─┬╴B\n",
      "   ╰─┬╴E\n",
      "     ╰╴D\n"
     ]
    }
   ],
   "source": [
    "t = Tree(\"(A:1,(B:1,(E:1,D:1):0.5):0.5);\" )\n",
    "print(t)"
   ]
  },
  {
   "cell_type": "code",
   "execution_count": 3,
   "id": "f79f0d3a-48b1-4c24-a078-a928608715da",
   "metadata": {},
   "outputs": [
    {
     "name": "stdout",
     "output_type": "stream",
     "text": [
      "─┬╴A\n",
      " ╰─┬╴B\n",
      "   ╰─┬╴E\n",
      "     ╰╴D\n"
     ]
    }
   ],
   "source": [
    "t = Tree(\"(A:1,(B:1.5,(E:0.3,D:0.4)Internal_1:0.2)Internal_2:0.8)Root;\", parser=1)\n",
    "print(t)"
   ]
  },
  {
   "cell_type": "code",
   "execution_count": 4,
   "id": "42b25037-8898-4d57-b998-b8df07c50b64",
   "metadata": {},
   "outputs": [
    {
     "data": {
      "text/plain": [
       "'(A:1,(B:1.5,(E:0.3,D:0.4):0.2):0.8);'"
      ]
     },
     "execution_count": 4,
     "metadata": {},
     "output_type": "execute_result"
    }
   ],
   "source": [
    "t.write()"
   ]
  },
  {
   "cell_type": "code",
   "execution_count": 5,
   "id": "da4657c9-4e1d-4eef-8595-2ae28ba35a33",
   "metadata": {},
   "outputs": [
    {
     "data": {
      "text/plain": [
       "'(A:1,(B:1.5,(E:0.3,D:0.4)Internal_1:0.2)Internal_2:0.8);'"
      ]
     },
     "execution_count": 5,
     "metadata": {},
     "output_type": "execute_result"
    }
   ],
   "source": [
    "# add outfile= param to write to a file\n",
    "t.write(parser=1)"
   ]
  },
  {
   "cell_type": "markdown",
   "id": "e6b3c851-1484-4afa-8141-bc3aaf50dbf0",
   "metadata": {},
   "source": [
    "### Tree attributes"
   ]
  },
  {
   "cell_type": "code",
   "execution_count": 6,
   "id": "c94b42b5-903c-46cd-bf54-e18bda2cd166",
   "metadata": {},
   "outputs": [
    {
     "name": "stdout",
     "output_type": "stream",
     "text": [
      "─┬╴B\n",
      " ╰─┬╴E\n",
      "   ╰╴D\n"
     ]
    }
   ],
   "source": [
    "tsub = t['Internal_2']\n",
    "print(tsub)  # only print tsub and its descendents"
   ]
  },
  {
   "cell_type": "code",
   "execution_count": 7,
   "id": "fe2a6673-fe07-4372-b94b-9f1ab57c149c",
   "metadata": {},
   "outputs": [
    {
     "data": {
      "text/plain": [
       "0.8"
      ]
     },
     "execution_count": 7,
     "metadata": {},
     "output_type": "execute_result"
    }
   ],
   "source": [
    "tsub.dist # from Internal_2 to its parent"
   ]
  },
  {
   "cell_type": "code",
   "execution_count": 8,
   "id": "a8eeeebc-b406-4c2f-bb4a-525eca46e286",
   "metadata": {},
   "outputs": [],
   "source": [
    "tsub.support"
   ]
  },
  {
   "cell_type": "code",
   "execution_count": 9,
   "id": "2ca4e2c4-08ff-4cb0-9210-70987c4c76f2",
   "metadata": {},
   "outputs": [
    {
     "data": {
      "text/plain": [
       "'Internal_2'"
      ]
     },
     "execution_count": 9,
     "metadata": {},
     "output_type": "execute_result"
    }
   ],
   "source": [
    "tsub.name"
   ]
  },
  {
   "cell_type": "code",
   "execution_count": 10,
   "id": "04e5bbae-ebdf-4624-8cc8-6784bf820b8c",
   "metadata": {},
   "outputs": [
    {
     "data": {
      "text/plain": [
       "False"
      ]
     },
     "execution_count": 10,
     "metadata": {},
     "output_type": "execute_result"
    }
   ],
   "source": [
    "tsub.is_leaf"
   ]
  },
  {
   "cell_type": "code",
   "execution_count": 11,
   "id": "1540bff5-c2ef-4cb2-9767-5c700d7f85d8",
   "metadata": {},
   "outputs": [
    {
     "data": {
      "text/plain": [
       "False"
      ]
     },
     "execution_count": 11,
     "metadata": {},
     "output_type": "execute_result"
    }
   ],
   "source": [
    "tsub.is_root"
   ]
  },
  {
   "cell_type": "code",
   "execution_count": 12,
   "id": "256fc250-6b79-4119-adf2-97736e06b4cf",
   "metadata": {},
   "outputs": [
    {
     "data": {
      "text/plain": [
       "True"
      ]
     },
     "execution_count": 12,
     "metadata": {},
     "output_type": "execute_result"
    }
   ],
   "source": [
    "t.is_root"
   ]
  },
  {
   "cell_type": "code",
   "execution_count": 13,
   "id": "001b1108-2301-4829-9fe9-b3de8826f7dd",
   "metadata": {},
   "outputs": [
    {
     "data": {
      "text/plain": [
       "True"
      ]
     },
     "execution_count": 13,
     "metadata": {},
     "output_type": "execute_result"
    }
   ],
   "source": [
    "t['A'].is_leaf"
   ]
  },
  {
   "cell_type": "code",
   "execution_count": 14,
   "id": "9131ff03-a726-4c7b-a7b9-b8ed255a24f9",
   "metadata": {},
   "outputs": [
    {
     "data": {
      "text/plain": [
       "<Tree 'Root' at 0x147392dc>"
      ]
     },
     "execution_count": 14,
     "metadata": {},
     "output_type": "execute_result"
    }
   ],
   "source": [
    "tsub.root"
   ]
  },
  {
   "cell_type": "code",
   "execution_count": 15,
   "id": "7cdcc0a4-f4dc-4357-8405-da4a35cd5884",
   "metadata": {},
   "outputs": [
    {
     "data": {
      "text/plain": [
       "<Tree 'Root' at 0x147392dc>"
      ]
     },
     "execution_count": 15,
     "metadata": {},
     "output_type": "execute_result"
    }
   ],
   "source": [
    "t.root"
   ]
  },
  {
   "cell_type": "code",
   "execution_count": 16,
   "id": "3bcc18e3-388f-43f1-882b-6d5ddebe7764",
   "metadata": {},
   "outputs": [
    {
     "data": {
      "text/plain": [
       "4"
      ]
     },
     "execution_count": 16,
     "metadata": {},
     "output_type": "execute_result"
    }
   ],
   "source": [
    "len(t) # number of leaves"
   ]
  },
  {
   "cell_type": "code",
   "execution_count": 17,
   "id": "9fc958b1-38e3-4926-afb1-e09e624ca6e4",
   "metadata": {},
   "outputs": [
    {
     "data": {
      "text/plain": [
       "['A', 'B', 'E', 'D']"
      ]
     },
     "execution_count": 17,
     "metadata": {},
     "output_type": "execute_result"
    }
   ],
   "source": [
    "[n.name for n in t.leaves()]"
   ]
  },
  {
   "cell_type": "code",
   "execution_count": 18,
   "id": "8d28a22a-123f-4025-9064-fdcd2aca18f2",
   "metadata": {},
   "outputs": [
    {
     "name": "stdout",
     "output_type": "stream",
     "text": [
      "3\n"
     ]
    },
    {
     "data": {
      "text/plain": [
       "['B', 'E', 'D']"
      ]
     },
     "execution_count": 18,
     "metadata": {},
     "output_type": "execute_result"
    }
   ],
   "source": [
    "print(len(tsub))\n",
    "[n.name for n in tsub.leaves()]"
   ]
  },
  {
   "cell_type": "code",
   "execution_count": 19,
   "id": "00d68b84-793f-487e-b821-4dbab4c139b6",
   "metadata": {},
   "outputs": [
    {
     "data": {
      "text/plain": [
       "True"
      ]
     },
     "execution_count": 19,
     "metadata": {},
     "output_type": "execute_result"
    }
   ],
   "source": [
    "'A' in t"
   ]
  },
  {
   "cell_type": "code",
   "execution_count": 20,
   "id": "d3c12a07-fc7e-4d04-bcf3-9f7aafc51056",
   "metadata": {},
   "outputs": [
    {
     "data": {
      "text/plain": [
       "False"
      ]
     },
     "execution_count": 20,
     "metadata": {},
     "output_type": "execute_result"
    }
   ],
   "source": [
    "'A' in tsub"
   ]
  },
  {
   "cell_type": "markdown",
   "id": "c99b1cc4-0a06-4184-ae74-dbec3cf5f8c2",
   "metadata": {},
   "source": [
    "### Browsing tree"
   ]
  },
  {
   "cell_type": "code",
   "execution_count": 21,
   "id": "aaceb5a2-9f80-4829-8fab-b1297f134b19",
   "metadata": {},
   "outputs": [
    {
     "name": "stdout",
     "output_type": "stream",
     "text": [
      "─┬╴A\n",
      " ╰─┬╴B\n",
      "   ╰─┬╴E\n",
      "     ╰╴D\n"
     ]
    }
   ],
   "source": [
    "print(t)"
   ]
  },
  {
   "cell_type": "code",
   "execution_count": 22,
   "id": "992f51fb-67d9-4482-a955-ccfacf5b06d8",
   "metadata": {},
   "outputs": [
    {
     "data": {
      "text/plain": [
       "['Root', 'A', 'Internal_2', 'B', 'Internal_1', 'E', 'D']"
      ]
     },
     "execution_count": 22,
     "metadata": {},
     "output_type": "execute_result"
    }
   ],
   "source": [
    "[n.name for n in t.traverse('preorder')]"
   ]
  },
  {
   "cell_type": "code",
   "execution_count": 23,
   "id": "501e4fdb-19ac-4391-be51-45461e6ce00c",
   "metadata": {},
   "outputs": [
    {
     "data": {
      "text/plain": [
       "['A', 'B', 'E', 'D', 'Internal_1', 'Internal_2', 'Root']"
      ]
     },
     "execution_count": 23,
     "metadata": {},
     "output_type": "execute_result"
    }
   ],
   "source": [
    "[n.name for n in t.traverse('postorder')]"
   ]
  },
  {
   "cell_type": "code",
   "execution_count": 24,
   "id": "ef033f00-09da-4bbd-8ac4-18145688de6c",
   "metadata": {},
   "outputs": [
    {
     "data": {
      "text/plain": [
       "['Root', 'A', 'Internal_2', 'B', 'Internal_1', 'E', 'D']"
      ]
     },
     "execution_count": 24,
     "metadata": {},
     "output_type": "execute_result"
    }
   ],
   "source": [
    "[n.name for n in t.traverse('levelorder')]"
   ]
  },
  {
   "cell_type": "code",
   "execution_count": 25,
   "id": "a40372cc-dd72-4e78-ae4a-dc4ae6990283",
   "metadata": {},
   "outputs": [
    {
     "data": {
      "text/plain": [
       "<Tree 'Internal_2' at 0x14739306>"
      ]
     },
     "execution_count": 25,
     "metadata": {},
     "output_type": "execute_result"
    }
   ],
   "source": [
    "tsub"
   ]
  },
  {
   "cell_type": "code",
   "execution_count": 26,
   "id": "d2f43eb2-4f05-417e-a5dc-bc5e58359e3c",
   "metadata": {},
   "outputs": [
    {
     "data": {
      "text/plain": [
       "<Tree 'Root' at 0x147392dc>"
      ]
     },
     "execution_count": 26,
     "metadata": {},
     "output_type": "execute_result"
    }
   ],
   "source": [
    "tsub.up"
   ]
  },
  {
   "cell_type": "code",
   "execution_count": 27,
   "id": "5f4a107d-8102-4328-8f6d-8bbae2c03198",
   "metadata": {},
   "outputs": [
    {
     "data": {
      "text/plain": [
       "<_cython_3_0_7.generator at 0x14724fc40>"
      ]
     },
     "execution_count": 27,
     "metadata": {},
     "output_type": "execute_result"
    }
   ],
   "source": [
    "tsub.leaves()"
   ]
  },
  {
   "cell_type": "code",
   "execution_count": 28,
   "id": "7cc10b0b-62e4-436e-957b-aec4f6d85308",
   "metadata": {},
   "outputs": [
    {
     "data": {
      "text/plain": [
       "[<Tree 'B' at 0x147392ea>, <Tree 'Internal_1' at 0x147392ff>]"
      ]
     },
     "execution_count": 28,
     "metadata": {},
     "output_type": "execute_result"
    }
   ],
   "source": [
    "tsub.children"
   ]
  },
  {
   "cell_type": "code",
   "execution_count": 29,
   "id": "f382f03d-fa60-49a4-9aa3-972a0849d591",
   "metadata": {},
   "outputs": [
    {
     "data": {
      "text/plain": [
       "[<Tree 'Root' at 0x147392dc>]"
      ]
     },
     "execution_count": 29,
     "metadata": {},
     "output_type": "execute_result"
    }
   ],
   "source": [
    "list(tsub.ancestors())"
   ]
  },
  {
   "cell_type": "code",
   "execution_count": 30,
   "id": "f668ac55-efae-4674-8736-f1ac02bb8246",
   "metadata": {},
   "outputs": [
    {
     "data": {
      "text/plain": [
       "<Tree 'Root' at 0x147392dc>"
      ]
     },
     "execution_count": 30,
     "metadata": {},
     "output_type": "execute_result"
    }
   ],
   "source": [
    "t.common_ancestor(['A', 'B'])  # find the most recent common ancestor"
   ]
  },
  {
   "cell_type": "code",
   "execution_count": 31,
   "id": "37213a57-228a-4ca1-934a-bbea6db388e6",
   "metadata": {},
   "outputs": [
    {
     "data": {
      "text/plain": [
       "<Tree 'Internal_1' at 0x147392ff>"
      ]
     },
     "execution_count": 31,
     "metadata": {},
     "output_type": "execute_result"
    }
   ],
   "source": [
    "t.common_ancestor(['E', 'D'])"
   ]
  },
  {
   "cell_type": "code",
   "execution_count": 32,
   "id": "b6d4fa01-0179-40e7-bfe3-2fd1afea7dd2",
   "metadata": {},
   "outputs": [
    {
     "data": {
      "text/plain": [
       "['B', 'Internal_1', 'E', 'D']"
      ]
     },
     "execution_count": 32,
     "metadata": {},
     "output_type": "execute_result"
    }
   ],
   "source": [
    "[n.name for n in tsub.descendants()]"
   ]
  },
  {
   "cell_type": "code",
   "execution_count": 33,
   "id": "7fae6289-2bdb-4a8d-81fb-8e0e235e2d24",
   "metadata": {},
   "outputs": [
    {
     "data": {
      "text/plain": [
       "1.5"
      ]
     },
     "execution_count": 33,
     "metadata": {},
     "output_type": "execute_result"
    }
   ],
   "source": [
    "tsub.get_distance('Internal_2', 'B')"
   ]
  },
  {
   "cell_type": "code",
   "execution_count": 34,
   "id": "bd7d8de8-55fd-4c40-89ed-c0d49ca41527",
   "metadata": {},
   "outputs": [
    {
     "data": {
      "text/plain": [
       "0.2"
      ]
     },
     "execution_count": 34,
     "metadata": {},
     "output_type": "execute_result"
    }
   ],
   "source": [
    "tsub.get_distance('Internal_2', 'Internal_1')"
   ]
  },
  {
   "cell_type": "code",
   "execution_count": 35,
   "id": "73cbfa36-c004-474f-884b-f8f620401542",
   "metadata": {},
   "outputs": [
    {
     "data": {
      "text/plain": [
       "['Internal_2']"
      ]
     },
     "execution_count": 35,
     "metadata": {},
     "output_type": "execute_result"
    }
   ],
   "source": [
    "[n.name for n in t.search_nodes(dist=0.8)]"
   ]
  },
  {
   "cell_type": "markdown",
   "id": "ae3baaa9-1bcb-47d7-bb1a-eeb8ee36df91",
   "metadata": {},
   "source": [
    "### Node annotation"
   ]
  },
  {
   "cell_type": "code",
   "execution_count": 36,
   "id": "c20ef560-508e-4482-9edd-398a327f81b7",
   "metadata": {},
   "outputs": [
    {
     "name": "stdout",
     "output_type": "stream",
     "text": [
      " ╭─┬╴H\n",
      "─┤ ╰╴I\n",
      " ├╴A\n",
      " ╰─┬╴B\n",
      "   ╰─┬╴C\n",
      "     ╰─┬╴J\n",
      "       ╰─┬╴F\n",
      "         ╰╴D\n"
     ]
    }
   ],
   "source": [
    "t2 = Tree('((H:0.3,I:0.1):0.5, A:1, (B:0.4,(C:0.5,(J:1.3, (F:1.2, D:0.1):0.5):0.5):0.5):0.5);' )\n",
    "print(t2)"
   ]
  },
  {
   "cell_type": "code",
   "execution_count": 37,
   "id": "51de7a63-10ba-4548-bf51-2fc1e9c6f147",
   "metadata": {},
   "outputs": [
    {
     "data": {
      "text/plain": [
       "[<Tree at 0x14745419>, <Tree 'A' at 0x14745420>, <Tree at 0x1474545f>]"
      ]
     },
     "execution_count": 37,
     "metadata": {},
     "output_type": "execute_result"
    }
   ],
   "source": [
    "list(t2.children)  # unrooted trees has more than two nodes at \"root\" node."
   ]
  },
  {
   "cell_type": "code",
   "execution_count": 38,
   "id": "f49b9139-e399-44c8-a70e-f81c131459c9",
   "metadata": {},
   "outputs": [
    {
     "data": {
      "text/plain": [
       "<Tree 'A' at 0x14745420>"
      ]
     },
     "execution_count": 38,
     "metadata": {},
     "output_type": "execute_result"
    }
   ],
   "source": [
    "list(t2.search_nodes(name='A'))[0]"
   ]
  },
  {
   "cell_type": "code",
   "execution_count": 39,
   "id": "4a4bf48e-08a7-4dd8-aebd-6e34e5c2f03b",
   "metadata": {},
   "outputs": [
    {
     "name": "stdout",
     "output_type": "stream",
     "text": [
      "─┬╴B\n",
      " ╰─┬╴E\n",
      "   ╰╴D\n"
     ]
    }
   ],
   "source": [
    "tsub2 = t2.common_ancestor(['C', 'J', 'F'])\n",
    "print(tsub)"
   ]
  },
  {
   "cell_type": "code",
   "execution_count": 40,
   "id": "4485fc03-d0e2-45e0-9289-f207baea7eb0",
   "metadata": {},
   "outputs": [],
   "source": [
    "tsub2.add_props(name2='anc', name3 = 'alt', confidence=0.2)  # .add_feature(s) is deprecated"
   ]
  },
  {
   "cell_type": "code",
   "execution_count": 41,
   "id": "d8475eaf-c9b6-4169-92cb-0957d7b66607",
   "metadata": {},
   "outputs": [
    {
     "data": {
      "text/plain": [
       "'anc'"
      ]
     },
     "execution_count": 41,
     "metadata": {},
     "output_type": "execute_result"
    }
   ],
   "source": [
    "tsub2.get_prop('name2')"
   ]
  },
  {
   "cell_type": "code",
   "execution_count": 42,
   "id": "883fc5af-9247-42a7-878e-1114553c9caa",
   "metadata": {},
   "outputs": [],
   "source": [
    "tsub2.del_prop('name2')\n",
    "tsub2.get_prop('name2')"
   ]
  },
  {
   "cell_type": "code",
   "execution_count": 43,
   "id": "0be375f0-8e7d-4f21-bd04-c8d6df6aaff7",
   "metadata": {},
   "outputs": [
    {
     "data": {
      "text/plain": [
       "{'dist': 0.5, 'name3': 'alt', 'confidence': 0.2}"
      ]
     },
     "execution_count": 43,
     "metadata": {},
     "output_type": "execute_result"
    }
   ],
   "source": [
    "tsub2.props"
   ]
  },
  {
   "cell_type": "code",
   "execution_count": 44,
   "id": "b736a736-85ec-4a74-9d35-c0c54ed39d83",
   "metadata": {},
   "outputs": [
    {
     "data": {
      "text/plain": [
       "0.2"
      ]
     },
     "execution_count": 44,
     "metadata": {},
     "output_type": "execute_result"
    }
   ],
   "source": [
    "tsub2.props['confidence']"
   ]
  },
  {
   "cell_type": "code",
   "execution_count": 45,
   "id": "fb3f080f-f794-4bf3-aa74-72225411cb8e",
   "metadata": {},
   "outputs": [],
   "source": [
    "del tsub2.props['confidence']"
   ]
  },
  {
   "cell_type": "code",
   "execution_count": 46,
   "id": "326f1e05-a6ec-4915-afae-dbb0d9746ab1",
   "metadata": {},
   "outputs": [
    {
     "data": {
      "text/plain": [
       "{'dist': 0.5, 'name3': 'alt'}"
      ]
     },
     "execution_count": 46,
     "metadata": {},
     "output_type": "execute_result"
    }
   ],
   "source": [
    "tsub2.props"
   ]
  },
  {
   "cell_type": "code",
   "execution_count": 47,
   "id": "38d8e43f-2e34-40d6-bdde-044af9328e2e",
   "metadata": {},
   "outputs": [
    {
     "name": "stdout",
     "output_type": "stream",
     "text": [
      "       ╭╴C,0.5\n",
      "╴⊗,0.5╶┤\n",
      "       │       ╭╴J,1.3\n",
      "       ╰╴⊗,0.5╶┤\n",
      "               │       ╭╴F,1.2\n",
      "               ╰╴⊗,0.5╶┤\n",
      "                       ╰╴D,0.1\n"
     ]
    }
   ],
   "source": [
    "print(tsub2.to_str(props=['name', 'dist']))"
   ]
  },
  {
   "cell_type": "code",
   "execution_count": 48,
   "id": "65dc20f6-5222-4c1a-9fcc-08cc2cd8b62c",
   "metadata": {},
   "outputs": [
    {
     "data": {
      "text/plain": [
       "'(C:0.5,(J:1.3,(F:1.2,D:0.1):0.5):0.5):0.5[&&NHX:name3=alt];'"
      ]
     },
     "execution_count": 48,
     "metadata": {},
     "output_type": "execute_result"
    }
   ],
   "source": [
    "# properties are exported with New Hampshire eXtended format (NHX)\n",
    "# https://phylosoft.org/NHX/\n",
    "tsub2.write(props=['name3'])"
   ]
  },
  {
   "cell_type": "code",
   "execution_count": 49,
   "id": "d7620f30-7975-4858-acc9-72cdb63d3e08",
   "metadata": {},
   "outputs": [],
   "source": [
    "x = tsub2.copy()"
   ]
  },
  {
   "cell_type": "code",
   "execution_count": 50,
   "id": "6564dfb5-a5e5-45c6-9c7c-b211418e718a",
   "metadata": {},
   "outputs": [
    {
     "data": {
      "text/plain": [
       "'(C:0.5,(J:1.3,(F:1.2,D:0.1):0.5):0.5);'"
      ]
     },
     "execution_count": 50,
     "metadata": {},
     "output_type": "execute_result"
    }
   ],
   "source": [
    "x = tsub2.copy('newick-extended')\n",
    "x.write(props=['name3'])"
   ]
  },
  {
   "cell_type": "code",
   "execution_count": 51,
   "id": "732509c1-bb2d-4c40-890f-8fef83afdd9d",
   "metadata": {},
   "outputs": [
    {
     "data": {
      "text/plain": [
       "'(C:0.5,(J:1.3,(F:1.2,D:0.1):0.5):0.5);'"
      ]
     },
     "execution_count": 51,
     "metadata": {},
     "output_type": "execute_result"
    }
   ],
   "source": [
    "x = tsub2.copy('deepcopy')\n",
    "x.write(props=['name3'])"
   ]
  },
  {
   "cell_type": "markdown",
   "id": "9fcf9eaf-6b1c-47fe-898d-fcf0f44e5a68",
   "metadata": {},
   "source": [
    "### Modify tree"
   ]
  },
  {
   "cell_type": "code",
   "execution_count": 52,
   "id": "155bb97e-9181-42d1-aaee-7d70bbe9a701",
   "metadata": {},
   "outputs": [
    {
     "name": "stdout",
     "output_type": "stream",
     "text": [
      "─┬╴A\n",
      " ╰─┬╴B\n",
      "   ╰─┬╴E\n",
      "     ╰╴D\n"
     ]
    }
   ],
   "source": [
    "t3 = t.copy()\n",
    "print(t3)"
   ]
  },
  {
   "cell_type": "code",
   "execution_count": 53,
   "id": "349a71a5-e4b2-4434-8c40-333a95feb4bc",
   "metadata": {},
   "outputs": [
    {
     "data": {
      "text/plain": [
       "<Tree 'F' at 0x147455e0>"
      ]
     },
     "execution_count": 53,
     "metadata": {},
     "output_type": "execute_result"
    }
   ],
   "source": [
    "t3['A'].add_child(name='F', dist=0.05)"
   ]
  },
  {
   "cell_type": "code",
   "execution_count": 54,
   "id": "7122d288-c5d9-4464-a6f7-fcd9f2d64190",
   "metadata": {},
   "outputs": [
    {
     "name": "stdout",
     "output_type": "stream",
     "text": [
      "      ╭╴A╶╌╴F\n",
      "╴Root╶┤\n",
      "      │            ╭╴B\n",
      "      ╰╴Internal_2╶┤\n",
      "                   │            ╭╴E\n",
      "                   ╰╴Internal_1╶┤\n",
      "                                ╰╴D\n"
     ]
    }
   ],
   "source": [
    "print(t3.to_str(props=['name']))"
   ]
  },
  {
   "cell_type": "code",
   "execution_count": 55,
   "id": "a3998622-09e7-45c1-8a1d-f450aa9481af",
   "metadata": {},
   "outputs": [
    {
     "name": "stdout",
     "output_type": "stream",
     "text": [
      "          ╭╴F\n",
      "      ╭╴A╶┤\n",
      "      │   ╰╴G\n",
      "╴Root╶┤\n",
      "      │            ╭╴B\n",
      "      ╰╴Internal_2╶┤\n",
      "                   │            ╭╴E\n",
      "                   ╰╴Internal_1╶┤\n",
      "                                ╰╴D\n"
     ]
    }
   ],
   "source": [
    "t3['A'].add_child(name='G', dist=0.08)\n",
    "print(t3.to_str(props=['name']))"
   ]
  },
  {
   "cell_type": "code",
   "execution_count": 56,
   "id": "3dfb079d-eb61-46ef-a7c2-1a555bf697bd",
   "metadata": {},
   "outputs": [
    {
     "name": "stdout",
     "output_type": "stream",
     "text": [
      "              ╭╴H\n",
      "          ╭╴F╶┤\n",
      "      ╭╴A╶┤   ╰╴I\n",
      "      │   │\n",
      "╴Root╶┤   ╰╴G\n",
      "      │\n",
      "      │            ╭╴B\n",
      "      ╰╴Internal_2╶┤\n",
      "                   │            ╭╴E\n",
      "                   ╰╴Internal_1╶┤\n",
      "                                ╰╴D\n"
     ]
    }
   ],
   "source": [
    "t3['F'].add_child(name='H')\n",
    "t3['F'].add_child(name='I')\n",
    "print(t3.to_str(props=['name']))"
   ]
  },
  {
   "cell_type": "code",
   "execution_count": 57,
   "id": "17693e3f-b6bd-436c-b0e5-138a319335ed",
   "metadata": {},
   "outputs": [
    {
     "name": "stdout",
     "output_type": "stream",
     "text": [
      "          ╭╴F╶╌╴I\n",
      "      ╭╴A╶┤\n",
      "      │   ╰╴G\n",
      "╴Root╶┤\n",
      "      │            ╭╴B\n",
      "      ╰╴Internal_2╶┤\n",
      "                   │            ╭╴E\n",
      "                   ╰╴Internal_1╶┤\n",
      "                                ╰╴D\n"
     ]
    }
   ],
   "source": [
    "t3['F'].remove_child('H')\n",
    "print(t3.to_str(props=['name']))"
   ]
  },
  {
   "cell_type": "code",
   "execution_count": 58,
   "id": "decd335b-ec08-46a3-8139-41a8f5375d3c",
   "metadata": {},
   "outputs": [
    {
     "name": "stdout",
     "output_type": "stream",
     "text": [
      "          ╭╴G\n",
      "      ╭╴A╶┤\n",
      "      │   ╰╴I\n",
      "╴Root╶┤\n",
      "      │            ╭╴B\n",
      "      ╰╴Internal_2╶┤\n",
      "                   │            ╭╴E\n",
      "                   ╰╴Internal_1╶┤\n",
      "                                ╰╴D\n"
     ]
    }
   ],
   "source": [
    "t3['F'].delete()\n",
    "print(t3.to_str(props=['name']))"
   ]
  },
  {
   "cell_type": "code",
   "execution_count": 59,
   "id": "c05e7a08-0ae9-46e3-8218-a635bb0dbe9b",
   "metadata": {},
   "outputs": [
    {
     "name": "stdout",
     "output_type": "stream",
     "text": [
      "      ╭╴A\n",
      "╴Root╶┤\n",
      "      │            ╭╴B\n",
      "      ╰╴Internal_2╶┤\n",
      "                   │            ╭╴E\n",
      "                   ╰╴Internal_1╶┤\n",
      "                                ╰╴D\n"
     ]
    }
   ],
   "source": [
    "t3['I'].detach()\n",
    "t3['G'].detach()\n",
    "print(t3.to_str(props=['name']))"
   ]
  },
  {
   "cell_type": "markdown",
   "id": "e0aa1a09-86d3-443f-811c-ecf6222fda05",
   "metadata": {},
   "source": [
    "### Prune tree"
   ]
  },
  {
   "cell_type": "code",
   "execution_count": 60,
   "id": "5bc19d42-6df6-4da2-8f0b-ec95568ffb1c",
   "metadata": {},
   "outputs": [
    {
     "name": "stdout",
     "output_type": "stream",
     "text": [
      "                  ╭╴H\n",
      "              ╭╴⊗╶┤\n",
      "              │   ╰╴K\n",
      "          ╭╴⊗╶┤\n",
      "          │   │   ╭╴F\n",
      "      ╭╴⊗╶┤   ╰╴G╶┤\n",
      "      │   │       ╰╴I\n",
      "      │   │\n",
      "      │   ╰╴E\n",
      "╴Root╶┤\n",
      "      │       ╭╴L\n",
      "      │   ╭╴⊗╶┤\n",
      "      │   │   │   ╭╴N\n",
      "      │   │   ╰╴O╶┤\n",
      "      ╰╴⊗╶┤       ╰╴Q\n",
      "          │\n",
      "          │   ╭╴P\n",
      "          ╰╴⊗╶┤\n",
      "              ╰╴S\n"
     ]
    }
   ],
   "source": [
    "t4 = Tree('((((H,K),(F,I)G),E),((L,(N,Q)O),(P,S)))Root;', parser=1)\n",
    "print(t4.to_str(props=['name']))"
   ]
  },
  {
   "cell_type": "code",
   "execution_count": 61,
   "id": "4597e62b-e6db-4061-bf5f-d949a53246df",
   "metadata": {},
   "outputs": [],
   "source": [
    "n = 1\n",
    "for node in t4.traverse():\n",
    "    node.dist = n\n",
    "    n += 1"
   ]
  },
  {
   "cell_type": "code",
   "execution_count": 62,
   "id": "f06471ae-c1e4-4fb7-af23-1c9710772203",
   "metadata": {},
   "outputs": [
    {
     "data": {
      "text/plain": [
       "19.0"
      ]
     },
     "execution_count": 62,
     "metadata": {},
     "output_type": "execute_result"
    }
   ],
   "source": [
    "t4.get_distance('Root', 'L')"
   ]
  },
  {
   "cell_type": "code",
   "execution_count": 63,
   "id": "64ba150f-da85-45ad-affb-f7edaa29e9ce",
   "metadata": {},
   "outputs": [
    {
     "name": "stdout",
     "output_type": "stream",
     "text": [
      "                                  ╭╴H,14.0\n",
      "                          ╭╴⊗,8.0╶┤\n",
      "                          │       ╰╴K,15.0\n",
      "                  ╭╴⊗,4.0╶┤\n",
      "                  │       │       ╭╴F,16.0\n",
      "          ╭╴⊗,2.0╶┤       ╰╴G,9.0╶┤\n",
      "          │       │               ╰╴I,17.0\n",
      "          │       │\n",
      "          │       ╰╴E,5.0\n",
      "╴Root,1.0╶┤\n",
      "          │               ╭╴L,10.0\n",
      "          │       ╭╴⊗,6.0╶┤\n",
      "          │       │       │        ╭╴N,18.0\n",
      "          │       │       ╰╴O,11.0╶┤\n",
      "          ╰╴⊗,3.0╶┤                ╰╴Q,19.0\n",
      "                  │\n",
      "                  │       ╭╴P,12.0\n",
      "                  ╰╴⊗,7.0╶┤\n",
      "                          ╰╴S,13.0\n"
     ]
    }
   ],
   "source": [
    "print(t4.to_str(props=['name', 'dist']))"
   ]
  },
  {
   "cell_type": "code",
   "execution_count": 64,
   "id": "9cbe6fa7-3acf-4846-ac03-83c331591a52",
   "metadata": {},
   "outputs": [
    {
     "data": {
      "text/plain": [
       "\u001b[0;31mSignature:\u001b[0m \u001b[0mt4\u001b[0m\u001b[0;34m.\u001b[0m\u001b[0mprune\u001b[0m\u001b[0;34m(\u001b[0m\u001b[0mnodes\u001b[0m\u001b[0;34m,\u001b[0m \u001b[0mpreserve_branch_length\u001b[0m\u001b[0;34m=\u001b[0m\u001b[0;32mFalse\u001b[0m\u001b[0;34m)\u001b[0m\u001b[0;34m\u001b[0m\u001b[0;34m\u001b[0m\u001b[0m\n",
       "\u001b[0;31mDocstring:\u001b[0m\n",
       "Tree.prune(self, nodes, preserve_branch_length=False)\n",
       "Prune the topology conserving only the given nodes.\n",
       "\n",
       "        It will only retain the minimum number of nodes that conserve the\n",
       "        topological relationships among the requested nodes. The root node is\n",
       "        always conserved.\n",
       "\n",
       "        :param nodes: List of node names or objects that should be kept.\n",
       "        :param bool preserve_branch_length: If True, branch lengths\n",
       "            of the deleted nodes are transferred (summed up) to its\n",
       "            parent's branch, thus keeping original distances among nodes.\n",
       "\n",
       "        Examples::\n",
       "\n",
       "          t = Tree('(((((A,B)C)D,E)F,G)H,(I,J)K)root;')\n",
       "          print(t.to_str(props=['name']))\n",
       "          #                       ╭╴A\n",
       "          #               ╭╴D╶╌╴C╶┤\n",
       "          #           ╭╴F╶┤       ╰╴B\n",
       "          #           │   │\n",
       "          #       ╭╴H╶┤   ╰╴E\n",
       "          #       │   │\n",
       "          # ╴root╶┤   ╰╴G\n",
       "          #       │\n",
       "          #       │   ╭╴I\n",
       "          #       ╰╴K╶┤\n",
       "          #           ╰╴J\n",
       "\n",
       "          t1 = t.copy()\n",
       "          t1.prune(['A', 'B'])\n",
       "          print(t1.to_str(props=['name']))\n",
       "          #       ╭╴A\n",
       "          # ╴root╶┤\n",
       "          #       ╰╴B\n",
       "\n",
       "          t2 = t.copy()\n",
       "          t2.prune(['A', 'B', 'C'])\n",
       "          print(t2.to_str(props=['name']))\n",
       "          #           ╭╴A\n",
       "          # ╴root╶╌╴C╶┤\n",
       "          #           ╰╴B\n",
       "\n",
       "          t3 = t.copy()\n",
       "          t3.prune(['A', 'B', 'I'])\n",
       "          print(t3.to_str(props=['name']))\n",
       "          #           ╭╴A\n",
       "          #       ╭╴C╶┤\n",
       "          # ╴root╶┤   ╰╴B\n",
       "          #       │\n",
       "          #       ╰╴I\n",
       "\n",
       "          t4 = t.copy()\n",
       "          t4.prune(['A', 'B', 'F', 'H'])\n",
       "          print(t4.to_str(props=['name']))\n",
       "          #               ╭╴A\n",
       "          # ╴root╶╌╴H╶╌╴F╶┤\n",
       "          #               ╰╴B\n",
       "        \n",
       "\u001b[0;31mType:\u001b[0m      method"
      ]
     },
     "metadata": {},
     "output_type": "display_data"
    }
   ],
   "source": [
    "# note that root node is always preserved when pruning, no matter how many nodes remains\n",
    "# this may cause misleading results when pruning to a single node\n",
    "?t4.prune"
   ]
  },
  {
   "cell_type": "code",
   "execution_count": 65,
   "id": "09f1f3fc-a620-4041-a883-74bbbdb1ec7d",
   "metadata": {},
   "outputs": [
    {
     "name": "stdout",
     "output_type": "stream",
     "text": [
      "           ╭╴L,10.0\n",
      "╴Root,10.0╶┤\n",
      "           │        ╭╴N,18.0\n",
      "           ╰╴O,11.0╶┤\n",
      "                    ╰╴Q,19.0\n"
     ]
    }
   ],
   "source": [
    "t41 = t4.copy()\n",
    "t41.prune(nodes=['L', 'N', 'Q'], preserve_branch_length=True)\n",
    "print(t41.to_str(props=['name', 'dist']))"
   ]
  },
  {
   "cell_type": "code",
   "execution_count": 66,
   "id": "67fd88b7-3b58-4e87-bbd8-77eeb2b7d08e",
   "metadata": {},
   "outputs": [
    {
     "name": "stdout",
     "output_type": "stream",
     "text": [
      "          ╭╴H,28.0\n",
      "╴Root,1.0╶┤\n",
      "          ╰╴L,19.0\n"
     ]
    }
   ],
   "source": [
    "t43 = t4.copy()\n",
    "t43.prune(nodes=['H', 'L'], preserve_branch_length=True)\n",
    "print(t43.to_str(props=['name', 'dist']))"
   ]
  },
  {
   "cell_type": "code",
   "execution_count": 67,
   "id": "2510afc6-60d3-45f7-bde3-c0b238332f08",
   "metadata": {},
   "outputs": [
    {
     "name": "stdout",
     "output_type": "stream",
     "text": [
      "          ╭╴H,28.0\n",
      "╴Root,1.0╶┤\n",
      "          │       ╭╴L,10.0\n",
      "          ╰╴⊗,9.0╶┤\n",
      "                  ╰╴N,29.0\n"
     ]
    }
   ],
   "source": [
    "t44 = t4.copy()\n",
    "t44.prune(nodes=['H', 'L', 'N'], preserve_branch_length=True)\n",
    "print(t44.to_str(props=['name', 'dist']))"
   ]
  },
  {
   "cell_type": "code",
   "execution_count": 68,
   "id": "ec83c4ce-f24d-4c74-99ba-3597b5f560b1",
   "metadata": {},
   "outputs": [
    {
     "name": "stdout",
     "output_type": "stream",
     "text": [
      "╴Root,1.0╶╌╴H,28.0\n"
     ]
    }
   ],
   "source": [
    "# 有两个以上节点时，如果这几个节点的最近祖先（MRCA）不是root，那么MRCA到root之间的距离都加到了Root.dist\n",
    "# 如果只有一个节点，那么这个节点跟root之间的距离都加到了这个节点的dist属性上！\n",
    "t42 = t4.copy()\n",
    "t42.prune(nodes=['H'], preserve_branch_length=True)\n",
    "print(t42.to_str(props=['name', 'dist']))"
   ]
  },
  {
   "cell_type": "code",
   "execution_count": 69,
   "id": "33bd0697-09c1-4050-8528-e3fd7f60c205",
   "metadata": {},
   "outputs": [
    {
     "data": {
      "text/plain": [
       "28.0"
      ]
     },
     "execution_count": 69,
     "metadata": {},
     "output_type": "execute_result"
    }
   ],
   "source": [
    "t4.get_distance('Root', 'H')"
   ]
  },
  {
   "cell_type": "code",
   "execution_count": 70,
   "id": "0037bd28-1168-41e0-99b2-37f2b3b3e008",
   "metadata": {},
   "outputs": [
    {
     "name": "stdout",
     "output_type": "stream",
     "text": [
      "╴H,14.0\n"
     ]
    }
   ],
   "source": [
    "# 此时可以拷贝leaf节点或者用subset\n",
    "tmp = t4['H'].copy()\n",
    "print(tmp.to_str(props=['name', 'dist']))"
   ]
  },
  {
   "cell_type": "code",
   "execution_count": 71,
   "id": "62990675-a9af-4a2d-aec7-73fb68a3ebac",
   "metadata": {},
   "outputs": [],
   "source": [
    "tmp.up"
   ]
  },
  {
   "cell_type": "code",
   "execution_count": 72,
   "id": "ffe1c8eb-08d1-4bb2-8de9-e9b3658d2362",
   "metadata": {},
   "outputs": [
    {
     "name": "stdout",
     "output_type": "stream",
     "text": [
      "╴H,14.0\n"
     ]
    }
   ],
   "source": [
    "tmp = t4['H']  # tmp仍然包含完整的树的信息\n",
    "print(tmp.to_str(props=['name', 'dist']))"
   ]
  },
  {
   "cell_type": "code",
   "execution_count": 73,
   "id": "2f083535-ce48-4a24-89dc-e7c9a38dc906",
   "metadata": {},
   "outputs": [
    {
     "data": {
      "text/plain": [
       "<Tree at 0x14745657>"
      ]
     },
     "execution_count": 73,
     "metadata": {},
     "output_type": "execute_result"
    }
   ],
   "source": [
    "tmp.up"
   ]
  },
  {
   "cell_type": "markdown",
   "id": "7d71ba97-82fd-4d92-a688-1d08a3bfe184",
   "metadata": {},
   "source": [
    "### Misc"
   ]
  },
  {
   "cell_type": "code",
   "execution_count": 74,
   "id": "1b718ac1-3d42-42a1-8675-8f24a901f8ec",
   "metadata": {},
   "outputs": [
    {
     "name": "stdout",
     "output_type": "stream",
     "text": [
      "     ╭╴a\n",
      "   ╭─┼╴b\n",
      " ╭─┤ ╰╴c\n",
      " │ │ ╭╴d\n",
      " │ ╰─┼╴e\n",
      "─┤   ├╴f\n",
      " │   ╰╴g\n",
      " │ ╭╴f\n",
      " ╰─┼╴i\n",
      "   ╰╴h\n"
     ]
    }
   ],
   "source": [
    "# resolve polytomies\n",
    "x = Tree(\"(( (a, b, c), (d, e, f, g)), (f, i, h));\")\n",
    "print(x)"
   ]
  },
  {
   "cell_type": "code",
   "execution_count": 75,
   "id": "b4212c35-bc07-4155-9595-754dbf56b71d",
   "metadata": {},
   "outputs": [
    {
     "name": "stdout",
     "output_type": "stream",
     "text": [
      "     ╭╴a\n",
      "   ╭─┼╴b\n",
      " ╭─┤ ╰╴c\n",
      " │ │ ╭╴d\n",
      " │ ╰─┼╴e\n",
      "─┤   ├╴f\n",
      " │   ╰╴g\n",
      " │ ╭╴f\n",
      " ╰─┼╴i\n",
      "   ╰╴h\n"
     ]
    }
   ],
   "source": [
    "x.resolve_polytomy(recursive=False)\n",
    "print(x)"
   ]
  },
  {
   "cell_type": "code",
   "execution_count": 76,
   "id": "fc09eec0-ffdb-4948-81c2-209c73c92f1a",
   "metadata": {},
   "outputs": [
    {
     "name": "stdout",
     "output_type": "stream",
     "text": [
      " ╭╴A\n",
      "─┼─┬╴H\n",
      " │ ╰╴F\n",
      " ╰─┬╴B\n",
      "   ╰─┬╴E\n",
      "     ╰╴D\n",
      " ╭─┬╴E\n",
      "─┤ ╰╴D\n",
      " ╰─┬╴B\n",
      "   ╰─┬╴A\n",
      "     ╰─┬╴H\n",
      "       ╰╴F\n"
     ]
    }
   ],
   "source": [
    "# set root\n",
    "x = Tree('(A,(H,F),(B,(E,D)));')\n",
    "print(x)\n",
    "\n",
    "x.set_outgroup(x.common_ancestor(['E', 'D']))\n",
    "print(x)"
   ]
  },
  {
   "cell_type": "code",
   "execution_count": 77,
   "id": "5c65146c-cf08-4cce-8a57-d40a3460129c",
   "metadata": {},
   "outputs": [
    {
     "name": "stdout",
     "output_type": "stream",
     "text": [
      " ╭─┬╴B\n",
      "─┤ ╰─┬╴E\n",
      " │   ╰╴D\n",
      " ╰─┬╴A\n",
      "   ╰─┬╴H\n",
      "     ╰╴F\n"
     ]
    }
   ],
   "source": [
    "# mid-point rooting\n",
    "x = Tree('(A,(H,F),(B,(E,D)));')\n",
    "\n",
    "for n in x.traverse():\n",
    "    if not n.is_root:\n",
    "        n.dist = 0.1\n",
    "\n",
    "r = x.get_midpoint_outgroup()\n",
    "x.set_outgroup(r)\n",
    "print(x)"
   ]
  },
  {
   "cell_type": "code",
   "execution_count": 78,
   "id": "0e7fffb3-f62e-41c2-8eac-e446099de188",
   "metadata": {},
   "outputs": [
    {
     "name": "stdout",
     "output_type": "stream",
     "text": [
      " ╭─┬╴B\n",
      " │ ╰─┬╴E\n",
      "─┤   ╰╴D\n",
      " │ ╭─╌─┬╴E\n",
      " ╰─┤   ╰╴D\n",
      "   ╰─┬╴H\n",
      "     ╰╴F\n"
     ]
    }
   ],
   "source": [
    "# graft tree: by adding a child consisting of a tree\n",
    "x['A'].add_child(x.common_ancestor(['E', 'D']))\n",
    "print(x)"
   ]
  },
  {
   "cell_type": "markdown",
   "id": "f73b44bb-0086-4ef7-877b-21107bfee213",
   "metadata": {},
   "source": [
    "## Phylogenetic Tree"
   ]
  },
  {
   "cell_type": "code",
   "execution_count": 79,
   "id": "ca46bdfa-c03c-4540-a838-a5cf2df8dde8",
   "metadata": {},
   "outputs": [],
   "source": [
    "from ete4 import PhyloTree"
   ]
  },
  {
   "cell_type": "code",
   "execution_count": 80,
   "id": "bb198b10-c566-415a-8b6d-15b1bb3ba7a8",
   "metadata": {},
   "outputs": [
    {
     "name": "stdout",
     "output_type": "stream",
     "text": [
      "   ╭─┬╴seqA\n",
      " ╭─┤ ╰╴seqB\n",
      "─┤ ╰╴seqC\n",
      " ╰╴seqD\n"
     ]
    }
   ],
   "source": [
    "fasta_txt = \"\"\"\n",
    ">seqA\n",
    "MAEIPDETIQQFMALT---HNIAVQYLSEFGDLNEALNSYYASQTDDIKDRREEAH\n",
    ">seqB\n",
    "MAEIPDATIQQFMALTNVSHNIAVQY--EFGDLNEALNSYYAYQTDDQKDRREEAH\n",
    ">ptAB\n",
    "MAEIPDATIQQFMALTNVSHNIAVQY--EFGDLNEALNSYYAYQTDDQKDRREEAH\n",
    ">seqC\n",
    "MAEIPDATIQ---ALTNVSHNIAVQYLSEFGDLNEALNSYYASQTDDQPDRREEAH\n",
    ">seqD\n",
    "MAEAPDETIQQFMALTNVSHNIAVQYLSEFGDLNEAL--------------REEAH\n",
    "\"\"\"\n",
    "\n",
    "# 如果部分fasta中的id与tree中的node.name能够对应，则可以link\n",
    "x = PhyloTree(\"(((seqA,seqB)ptAB,seqC),seqD);\", parser=1)\n",
    "x.link_to_alignment(alignment=fasta_txt, alg_format=\"fasta\")\n",
    "\n",
    "# or \n",
    "x = PhyloTree(\"(((seqA,seqB)ptAB,seqC),seqD);\", parser=1, alignment=fasta_txt, alg_format=\"fasta\")\n",
    "print(x)"
   ]
  },
  {
   "cell_type": "code",
   "execution_count": 81,
   "id": "170c5b39-0079-4460-b76e-b21af1efff4c",
   "metadata": {},
   "outputs": [
    {
     "data": {
      "text/plain": [
       "{}"
      ]
     },
     "execution_count": 81,
     "metadata": {},
     "output_type": "execute_result"
    }
   ],
   "source": [
    "x.props"
   ]
  },
  {
   "cell_type": "code",
   "execution_count": 82,
   "id": "f81b3c74-a462-4c89-bf21-da0344ccf83e",
   "metadata": {},
   "outputs": [
    {
     "data": {
      "text/plain": [
       "{'name': 'ptAB',\n",
       " 'sequence': 'MAEIPDATIQQFMALTNVSHNIAVQY--EFGDLNEALNSYYAYQTDDQKDRREEAH'}"
      ]
     },
     "execution_count": 82,
     "metadata": {},
     "output_type": "execute_result"
    }
   ],
   "source": [
    "x['ptAB'].props"
   ]
  },
  {
   "cell_type": "code",
   "execution_count": 83,
   "id": "7c896bde-26e7-4954-b878-24c685192151",
   "metadata": {},
   "outputs": [
    {
     "name": "stdout",
     "output_type": "stream",
     "text": [
      "MAEIPDETIQQFMALT---HNIAVQYLSEFGDLNEALNSYYASQTDDIKDRREEAH seqA\n",
      "MAEIPDATIQQFMALTNVSHNIAVQY--EFGDLNEALNSYYAYQTDDQKDRREEAH seqB\n",
      "MAEIPDATIQ---ALTNVSHNIAVQYLSEFGDLNEALNSYYASQTDDQPDRREEAH seqC\n",
      "MAEAPDETIQQFMALTNVSHNIAVQYLSEFGDLNEAL--------------REEAH seqD\n"
     ]
    }
   ],
   "source": [
    "for n in x.leaves():\n",
    "    print(n.get_prop('sequence'), n.name)"
   ]
  },
  {
   "cell_type": "code",
   "execution_count": null,
   "id": "fb87e7f1-4a8d-4a51-83df-3c811b873553",
   "metadata": {},
   "outputs": [],
   "source": []
  }
 ],
 "metadata": {
  "kernelspec": {
   "display_name": "Python 3 (ipykernel)",
   "language": "python",
   "name": "python3"
  },
  "language_info": {
   "codemirror_mode": {
    "name": "ipython",
    "version": 3
   },
   "file_extension": ".py",
   "mimetype": "text/x-python",
   "name": "python",
   "nbconvert_exporter": "python",
   "pygments_lexer": "ipython3",
   "version": "3.10.2"
  }
 },
 "nbformat": 4,
 "nbformat_minor": 5
}
